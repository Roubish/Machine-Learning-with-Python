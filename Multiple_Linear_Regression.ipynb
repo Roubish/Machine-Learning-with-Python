{
  "nbformat": 4,
  "nbformat_minor": 0,
  "metadata": {
    "colab": {
      "name": "Multiple Linear Regression.ipynb",
      "provenance": []
    },
    "kernelspec": {
      "name": "python3",
      "display_name": "Python 3"
    }
  },
  "cells": [
    {
      "cell_type": "code",
      "metadata": {
        "id": "b83ixImRTLtj"
      },
      "source": [
        "import pandas as pd \r\n",
        "import numpy as np \r\n",
        "import matplotlib.pyplot as plt"
      ],
      "execution_count": 31,
      "outputs": []
    },
    {
      "cell_type": "code",
      "metadata": {
        "colab": {
          "base_uri": "https://localhost:8080/",
          "height": 206
        },
        "id": "XMVZT2sMTevc",
        "outputId": "7255a85d-3d3e-4500-f47c-c6b23eee5205"
      },
      "source": [
        "Data = pd.read_csv('Carseats.csv')\r\n",
        "Data.head()"
      ],
      "execution_count": 32,
      "outputs": [
        {
          "output_type": "execute_result",
          "data": {
            "text/html": [
              "<div>\n",
              "<style scoped>\n",
              "    .dataframe tbody tr th:only-of-type {\n",
              "        vertical-align: middle;\n",
              "    }\n",
              "\n",
              "    .dataframe tbody tr th {\n",
              "        vertical-align: top;\n",
              "    }\n",
              "\n",
              "    .dataframe thead th {\n",
              "        text-align: right;\n",
              "    }\n",
              "</style>\n",
              "<table border=\"1\" class=\"dataframe\">\n",
              "  <thead>\n",
              "    <tr style=\"text-align: right;\">\n",
              "      <th></th>\n",
              "      <th>Unnamed: 0</th>\n",
              "      <th>Sales</th>\n",
              "      <th>CompPrice</th>\n",
              "      <th>Income</th>\n",
              "      <th>Advertising</th>\n",
              "      <th>Population</th>\n",
              "      <th>Price</th>\n",
              "      <th>ShelveLoc</th>\n",
              "      <th>Age</th>\n",
              "      <th>Education</th>\n",
              "      <th>Urban</th>\n",
              "      <th>US</th>\n",
              "    </tr>\n",
              "  </thead>\n",
              "  <tbody>\n",
              "    <tr>\n",
              "      <th>0</th>\n",
              "      <td>1</td>\n",
              "      <td>9.50</td>\n",
              "      <td>138</td>\n",
              "      <td>73</td>\n",
              "      <td>11</td>\n",
              "      <td>276</td>\n",
              "      <td>120</td>\n",
              "      <td>Bad</td>\n",
              "      <td>42</td>\n",
              "      <td>17</td>\n",
              "      <td>Yes</td>\n",
              "      <td>Yes</td>\n",
              "    </tr>\n",
              "    <tr>\n",
              "      <th>1</th>\n",
              "      <td>2</td>\n",
              "      <td>11.22</td>\n",
              "      <td>111</td>\n",
              "      <td>48</td>\n",
              "      <td>16</td>\n",
              "      <td>260</td>\n",
              "      <td>83</td>\n",
              "      <td>Good</td>\n",
              "      <td>65</td>\n",
              "      <td>10</td>\n",
              "      <td>Yes</td>\n",
              "      <td>Yes</td>\n",
              "    </tr>\n",
              "    <tr>\n",
              "      <th>2</th>\n",
              "      <td>3</td>\n",
              "      <td>10.06</td>\n",
              "      <td>113</td>\n",
              "      <td>35</td>\n",
              "      <td>10</td>\n",
              "      <td>269</td>\n",
              "      <td>80</td>\n",
              "      <td>Medium</td>\n",
              "      <td>59</td>\n",
              "      <td>12</td>\n",
              "      <td>Yes</td>\n",
              "      <td>Yes</td>\n",
              "    </tr>\n",
              "    <tr>\n",
              "      <th>3</th>\n",
              "      <td>4</td>\n",
              "      <td>7.40</td>\n",
              "      <td>117</td>\n",
              "      <td>100</td>\n",
              "      <td>4</td>\n",
              "      <td>466</td>\n",
              "      <td>97</td>\n",
              "      <td>Medium</td>\n",
              "      <td>55</td>\n",
              "      <td>14</td>\n",
              "      <td>Yes</td>\n",
              "      <td>Yes</td>\n",
              "    </tr>\n",
              "    <tr>\n",
              "      <th>4</th>\n",
              "      <td>5</td>\n",
              "      <td>4.15</td>\n",
              "      <td>141</td>\n",
              "      <td>64</td>\n",
              "      <td>3</td>\n",
              "      <td>340</td>\n",
              "      <td>128</td>\n",
              "      <td>Bad</td>\n",
              "      <td>38</td>\n",
              "      <td>13</td>\n",
              "      <td>Yes</td>\n",
              "      <td>No</td>\n",
              "    </tr>\n",
              "  </tbody>\n",
              "</table>\n",
              "</div>"
            ],
            "text/plain": [
              "   Unnamed: 0  Sales  CompPrice  Income  ...  Age  Education  Urban   US\n",
              "0           1   9.50        138      73  ...   42         17    Yes  Yes\n",
              "1           2  11.22        111      48  ...   65         10    Yes  Yes\n",
              "2           3  10.06        113      35  ...   59         12    Yes  Yes\n",
              "3           4   7.40        117     100  ...   55         14    Yes  Yes\n",
              "4           5   4.15        141      64  ...   38         13    Yes   No\n",
              "\n",
              "[5 rows x 12 columns]"
            ]
          },
          "metadata": {
            "tags": []
          },
          "execution_count": 32
        }
      ]
    },
    {
      "cell_type": "code",
      "metadata": {
        "colab": {
          "base_uri": "https://localhost:8080/"
        },
        "id": "Ke2zWZsiTxBr",
        "outputId": "3985abed-f18c-45f1-8d92-54e69279daac"
      },
      "source": [
        "Data.shape"
      ],
      "execution_count": 33,
      "outputs": [
        {
          "output_type": "execute_result",
          "data": {
            "text/plain": [
              "(400, 12)"
            ]
          },
          "metadata": {
            "tags": []
          },
          "execution_count": 33
        }
      ]
    },
    {
      "cell_type": "code",
      "metadata": {
        "id": "moPEWe-kUCwk"
      },
      "source": [
        "# dropping Unnamed:0 column\r\n",
        "Data.drop(Data.columns[0],axis = 1,inplace = True)"
      ],
      "execution_count": 34,
      "outputs": []
    },
    {
      "cell_type": "code",
      "metadata": {
        "colab": {
          "base_uri": "https://localhost:8080/",
          "height": 206
        },
        "id": "-B1kP96tUUWC",
        "outputId": "481ace3c-21a8-488b-8dbc-34c69a921be0"
      },
      "source": [
        "Data.head()"
      ],
      "execution_count": 35,
      "outputs": [
        {
          "output_type": "execute_result",
          "data": {
            "text/html": [
              "<div>\n",
              "<style scoped>\n",
              "    .dataframe tbody tr th:only-of-type {\n",
              "        vertical-align: middle;\n",
              "    }\n",
              "\n",
              "    .dataframe tbody tr th {\n",
              "        vertical-align: top;\n",
              "    }\n",
              "\n",
              "    .dataframe thead th {\n",
              "        text-align: right;\n",
              "    }\n",
              "</style>\n",
              "<table border=\"1\" class=\"dataframe\">\n",
              "  <thead>\n",
              "    <tr style=\"text-align: right;\">\n",
              "      <th></th>\n",
              "      <th>Sales</th>\n",
              "      <th>CompPrice</th>\n",
              "      <th>Income</th>\n",
              "      <th>Advertising</th>\n",
              "      <th>Population</th>\n",
              "      <th>Price</th>\n",
              "      <th>ShelveLoc</th>\n",
              "      <th>Age</th>\n",
              "      <th>Education</th>\n",
              "      <th>Urban</th>\n",
              "      <th>US</th>\n",
              "    </tr>\n",
              "  </thead>\n",
              "  <tbody>\n",
              "    <tr>\n",
              "      <th>0</th>\n",
              "      <td>9.50</td>\n",
              "      <td>138</td>\n",
              "      <td>73</td>\n",
              "      <td>11</td>\n",
              "      <td>276</td>\n",
              "      <td>120</td>\n",
              "      <td>Bad</td>\n",
              "      <td>42</td>\n",
              "      <td>17</td>\n",
              "      <td>Yes</td>\n",
              "      <td>Yes</td>\n",
              "    </tr>\n",
              "    <tr>\n",
              "      <th>1</th>\n",
              "      <td>11.22</td>\n",
              "      <td>111</td>\n",
              "      <td>48</td>\n",
              "      <td>16</td>\n",
              "      <td>260</td>\n",
              "      <td>83</td>\n",
              "      <td>Good</td>\n",
              "      <td>65</td>\n",
              "      <td>10</td>\n",
              "      <td>Yes</td>\n",
              "      <td>Yes</td>\n",
              "    </tr>\n",
              "    <tr>\n",
              "      <th>2</th>\n",
              "      <td>10.06</td>\n",
              "      <td>113</td>\n",
              "      <td>35</td>\n",
              "      <td>10</td>\n",
              "      <td>269</td>\n",
              "      <td>80</td>\n",
              "      <td>Medium</td>\n",
              "      <td>59</td>\n",
              "      <td>12</td>\n",
              "      <td>Yes</td>\n",
              "      <td>Yes</td>\n",
              "    </tr>\n",
              "    <tr>\n",
              "      <th>3</th>\n",
              "      <td>7.40</td>\n",
              "      <td>117</td>\n",
              "      <td>100</td>\n",
              "      <td>4</td>\n",
              "      <td>466</td>\n",
              "      <td>97</td>\n",
              "      <td>Medium</td>\n",
              "      <td>55</td>\n",
              "      <td>14</td>\n",
              "      <td>Yes</td>\n",
              "      <td>Yes</td>\n",
              "    </tr>\n",
              "    <tr>\n",
              "      <th>4</th>\n",
              "      <td>4.15</td>\n",
              "      <td>141</td>\n",
              "      <td>64</td>\n",
              "      <td>3</td>\n",
              "      <td>340</td>\n",
              "      <td>128</td>\n",
              "      <td>Bad</td>\n",
              "      <td>38</td>\n",
              "      <td>13</td>\n",
              "      <td>Yes</td>\n",
              "      <td>No</td>\n",
              "    </tr>\n",
              "  </tbody>\n",
              "</table>\n",
              "</div>"
            ],
            "text/plain": [
              "   Sales  CompPrice  Income  Advertising  ...  Age  Education Urban   US\n",
              "0   9.50        138      73           11  ...   42         17   Yes  Yes\n",
              "1  11.22        111      48           16  ...   65         10   Yes  Yes\n",
              "2  10.06        113      35           10  ...   59         12   Yes  Yes\n",
              "3   7.40        117     100            4  ...   55         14   Yes  Yes\n",
              "4   4.15        141      64            3  ...   38         13   Yes   No\n",
              "\n",
              "[5 rows x 11 columns]"
            ]
          },
          "metadata": {
            "tags": []
          },
          "execution_count": 35
        }
      ]
    },
    {
      "cell_type": "code",
      "metadata": {
        "colab": {
          "base_uri": "https://localhost:8080/"
        },
        "id": "B5cdq7WvU3Sp",
        "outputId": "8876ee55-06c3-46b0-f9f6-924ef8ae8fcb"
      },
      "source": [
        "# check for missing values\r\n",
        "Data.isnull().sum()"
      ],
      "execution_count": 36,
      "outputs": [
        {
          "output_type": "execute_result",
          "data": {
            "text/plain": [
              "Sales          0\n",
              "CompPrice      0\n",
              "Income         0\n",
              "Advertising    0\n",
              "Population     0\n",
              "Price          0\n",
              "ShelveLoc      0\n",
              "Age            0\n",
              "Education      0\n",
              "Urban          0\n",
              "US             0\n",
              "dtype: int64"
            ]
          },
          "metadata": {
            "tags": []
          },
          "execution_count": 36
        }
      ]
    },
    {
      "cell_type": "code",
      "metadata": {
        "colab": {
          "base_uri": "https://localhost:8080/"
        },
        "id": "Iw_pEr9GVF-x",
        "outputId": "2a4a4f1e-f92a-4118-dddb-6ed512426883"
      },
      "source": [
        "# checking for categorical variables\r\n",
        "Data.dtypes"
      ],
      "execution_count": 37,
      "outputs": [
        {
          "output_type": "execute_result",
          "data": {
            "text/plain": [
              "Sales          float64\n",
              "CompPrice        int64\n",
              "Income           int64\n",
              "Advertising      int64\n",
              "Population       int64\n",
              "Price            int64\n",
              "ShelveLoc       object\n",
              "Age              int64\n",
              "Education        int64\n",
              "Urban           object\n",
              "US              object\n",
              "dtype: object"
            ]
          },
          "metadata": {
            "tags": []
          },
          "execution_count": 37
        }
      ]
    },
    {
      "cell_type": "code",
      "metadata": {
        "colab": {
          "base_uri": "https://localhost:8080/",
          "height": 1000
        },
        "id": "13TtLuMkVSP1",
        "outputId": "b3139e90-f022-4b27-b4fd-d70841f04edc"
      },
      "source": [
        "#cheking the unique values in each categorical columns\r\n",
        "#also checking for outliers in non categorical columns\r\n",
        "plt.figure(figsize=(15,25))\r\n",
        "count = 1\r\n",
        "for col in Data:\r\n",
        "  if(Data[col].dtype == 'O'):\r\n",
        "    print(\"Unique values in {} = {}\".format(col,Data[col].unique()))\r\n",
        "  else:\r\n",
        "    plt.subplot(5,2,count)\r\n",
        "    plt.boxplot(Data[col])\r\n",
        "    plt.title(col)\r\n",
        "    count += 1\r\n",
        "plt.show()"
      ],
      "execution_count": 38,
      "outputs": [
        {
          "output_type": "stream",
          "text": [
            "Unique values in ShelveLoc = ['Bad' 'Good' 'Medium']\n",
            "Unique values in Urban = ['Yes' 'No']\n",
            "Unique values in US = ['Yes' 'No']\n"
          ],
          "name": "stdout"
        },
        {
          "output_type": "display_data",
          "data": {
            "image/png": "[encoded data removed]",
            "text/plain": [
              "<Figure size 1080x1800 with 8 Axes>"
            ]
          },
          "metadata": {
            "tags": [],
            "needs_background": "light"
          }
        }
      ]
    },
    {
      "cell_type": "code",
      "metadata": {
        "colab": {
          "base_uri": "https://localhost:8080/",
          "height": 300
        },
        "id": "ml_sF_thWeOk",
        "outputId": "4ce46d6e-c7d6-493e-a027-01f4898c5ca8"
      },
      "source": [
        "Data.corr()"
      ],
      "execution_count": 39,
      "outputs": [
        {
          "output_type": "execute_result",
          "data": {
            "text/html": [
              "<div>\n",
              "<style scoped>\n",
              "    .dataframe tbody tr th:only-of-type {\n",
              "        vertical-align: middle;\n",
              "    }\n",
              "\n",
              "    .dataframe tbody tr th {\n",
              "        vertical-align: top;\n",
              "    }\n",
              "\n",
              "    .dataframe thead th {\n",
              "        text-align: right;\n",
              "    }\n",
              "</style>\n",
              "<table border=\"1\" class=\"dataframe\">\n",
              "  <thead>\n",
              "    <tr style=\"text-align: right;\">\n",
              "      <th></th>\n",
              "      <th>Sales</th>\n",
              "      <th>CompPrice</th>\n",
              "      <th>Income</th>\n",
              "      <th>Advertising</th>\n",
              "      <th>Population</th>\n",
              "      <th>Price</th>\n",
              "      <th>Age</th>\n",
              "      <th>Education</th>\n",
              "    </tr>\n",
              "  </thead>\n",
              "  <tbody>\n",
              "    <tr>\n",
              "      <th>Sales</th>\n",
              "      <td>1.000000</td>\n",
              "      <td>0.064079</td>\n",
              "      <td>0.151951</td>\n",
              "      <td>0.269507</td>\n",
              "      <td>0.050471</td>\n",
              "      <td>-0.444951</td>\n",
              "      <td>-0.231815</td>\n",
              "      <td>-0.051955</td>\n",
              "    </tr>\n",
              "    <tr>\n",
              "      <th>CompPrice</th>\n",
              "      <td>0.064079</td>\n",
              "      <td>1.000000</td>\n",
              "      <td>-0.080653</td>\n",
              "      <td>-0.024199</td>\n",
              "      <td>-0.094707</td>\n",
              "      <td>0.584848</td>\n",
              "      <td>-0.100239</td>\n",
              "      <td>0.025197</td>\n",
              "    </tr>\n",
              "    <tr>\n",
              "      <th>Income</th>\n",
              "      <td>0.151951</td>\n",
              "      <td>-0.080653</td>\n",
              "      <td>1.000000</td>\n",
              "      <td>0.058995</td>\n",
              "      <td>-0.007877</td>\n",
              "      <td>-0.056698</td>\n",
              "      <td>-0.004670</td>\n",
              "      <td>-0.056855</td>\n",
              "    </tr>\n",
              "    <tr>\n",
              "      <th>Advertising</th>\n",
              "      <td>0.269507</td>\n",
              "      <td>-0.024199</td>\n",
              "      <td>0.058995</td>\n",
              "      <td>1.000000</td>\n",
              "      <td>0.265652</td>\n",
              "      <td>0.044537</td>\n",
              "      <td>-0.004557</td>\n",
              "      <td>-0.033594</td>\n",
              "    </tr>\n",
              "    <tr>\n",
              "      <th>Population</th>\n",
              "      <td>0.050471</td>\n",
              "      <td>-0.094707</td>\n",
              "      <td>-0.007877</td>\n",
              "      <td>0.265652</td>\n",
              "      <td>1.000000</td>\n",
              "      <td>-0.012144</td>\n",
              "      <td>-0.042663</td>\n",
              "      <td>-0.106378</td>\n",
              "    </tr>\n",
              "    <tr>\n",
              "      <th>Price</th>\n",
              "      <td>-0.444951</td>\n",
              "      <td>0.584848</td>\n",
              "      <td>-0.056698</td>\n",
              "      <td>0.044537</td>\n",
              "      <td>-0.012144</td>\n",
              "      <td>1.000000</td>\n",
              "      <td>-0.102177</td>\n",
              "      <td>0.011747</td>\n",
              "    </tr>\n",
              "    <tr>\n",
              "      <th>Age</th>\n",
              "      <td>-0.231815</td>\n",
              "      <td>-0.100239</td>\n",
              "      <td>-0.004670</td>\n",
              "      <td>-0.004557</td>\n",
              "      <td>-0.042663</td>\n",
              "      <td>-0.102177</td>\n",
              "      <td>1.000000</td>\n",
              "      <td>0.006488</td>\n",
              "    </tr>\n",
              "    <tr>\n",
              "      <th>Education</th>\n",
              "      <td>-0.051955</td>\n",
              "      <td>0.025197</td>\n",
              "      <td>-0.056855</td>\n",
              "      <td>-0.033594</td>\n",
              "      <td>-0.106378</td>\n",
              "      <td>0.011747</td>\n",
              "      <td>0.006488</td>\n",
              "      <td>1.000000</td>\n",
              "    </tr>\n",
              "  </tbody>\n",
              "</table>\n",
              "</div>"
            ],
            "text/plain": [
              "                Sales  CompPrice    Income  ...     Price       Age  Education\n",
              "Sales        1.000000   0.064079  0.151951  ... -0.444951 -0.231815  -0.051955\n",
              "CompPrice    0.064079   1.000000 -0.080653  ...  0.584848 -0.100239   0.025197\n",
              "Income       0.151951  -0.080653  1.000000  ... -0.056698 -0.004670  -0.056855\n",
              "Advertising  0.269507  -0.024199  0.058995  ...  0.044537 -0.004557  -0.033594\n",
              "Population   0.050471  -0.094707 -0.007877  ... -0.012144 -0.042663  -0.106378\n",
              "Price       -0.444951   0.584848 -0.056698  ...  1.000000 -0.102177   0.011747\n",
              "Age         -0.231815  -0.100239 -0.004670  ... -0.102177  1.000000   0.006488\n",
              "Education   -0.051955   0.025197 -0.056855  ...  0.011747  0.006488   1.000000\n",
              "\n",
              "[8 rows x 8 columns]"
            ]
          },
          "metadata": {
            "tags": []
          },
          "execution_count": 39
        }
      ]
    },
    {
      "cell_type": "code",
      "metadata": {
        "colab": {
          "base_uri": "https://localhost:8080/"
        },
        "id": "5Rer-p9UW0k6",
        "outputId": "ae9fa1c9-b4cd-4c7a-a054-8268456befbd"
      },
      "source": [
        "df = Data.copy()\r\n",
        "df['ShelveLoc'].head()"
      ],
      "execution_count": 40,
      "outputs": [
        {
          "output_type": "execute_result",
          "data": {
            "text/plain": [
              "0       Bad\n",
              "1      Good\n",
              "2    Medium\n",
              "3    Medium\n",
              "4       Bad\n",
              "Name: ShelveLoc, dtype: object"
            ]
          },
          "metadata": {
            "tags": []
          },
          "execution_count": 40
        }
      ]
    },
    {
      "cell_type": "code",
      "metadata": {
        "colab": {
          "base_uri": "https://localhost:8080/"
        },
        "id": "GTPVcoMhXCgC",
        "outputId": "f3447cdf-2f6f-437f-abb5-77faee19cd2d"
      },
      "source": [
        "# applying label encoding on Shelveloc column\r\n",
        "My_dict = {\r\n",
        "    'Bad':0,\r\n",
        "    'Medium':1,\r\n",
        "    'Good':2\r\n",
        "}\r\n",
        "df['ShelveLoc_new'] =df['ShelveLoc'].map(My_dict)\r\n",
        "df['ShelveLoc_new'].head()"
      ],
      "execution_count": 41,
      "outputs": [
        {
          "output_type": "execute_result",
          "data": {
            "text/plain": [
              "0    0\n",
              "1    2\n",
              "2    1\n",
              "3    1\n",
              "4    0\n",
              "Name: ShelveLoc_new, dtype: int64"
            ]
          },
          "metadata": {
            "tags": []
          },
          "execution_count": 41
        }
      ]
    },
    {
      "cell_type": "code",
      "metadata": {
        "id": "EqKjZ0ARX27g"
      },
      "source": [
        "# droping old column\r\n",
        "df.drop('ShelveLoc',axis = 1,inplace=True)"
      ],
      "execution_count": 42,
      "outputs": []
    },
    {
      "cell_type": "code",
      "metadata": {
        "id": "igKrHJImtAX1"
      },
      "source": [
        "# one hot encoding the other two columns and droping the first two row\r\n",
        "df = pd.get_dummies(df,drop_first=True)"
      ],
      "execution_count": 43,
      "outputs": []
    },
    {
      "cell_type": "code",
      "metadata": {
        "colab": {
          "base_uri": "https://localhost:8080/",
          "height": 414
        },
        "id": "IabcXmFgtXYO",
        "outputId": "9abb57e1-8460-48cd-9af7-9898483556db"
      },
      "source": [
        "df.corr()"
      ],
      "execution_count": 44,
      "outputs": [
        {
          "output_type": "execute_result",
          "data": {
            "text/html": [
              "<div>\n",
              "<style scoped>\n",
              "    .dataframe tbody tr th:only-of-type {\n",
              "        vertical-align: middle;\n",
              "    }\n",
              "\n",
              "    .dataframe tbody tr th {\n",
              "        vertical-align: top;\n",
              "    }\n",
              "\n",
              "    .dataframe thead th {\n",
              "        text-align: right;\n",
              "    }\n",
              "</style>\n",
              "<table border=\"1\" class=\"dataframe\">\n",
              "  <thead>\n",
              "    <tr style=\"text-align: right;\">\n",
              "      <th></th>\n",
              "      <th>Sales</th>\n",
              "      <th>CompPrice</th>\n",
              "      <th>Income</th>\n",
              "      <th>Advertising</th>\n",
              "      <th>Population</th>\n",
              "      <th>Price</th>\n",
              "      <th>Age</th>\n",
              "      <th>Education</th>\n",
              "      <th>ShelveLoc_new</th>\n",
              "      <th>Urban_Yes</th>\n",
              "      <th>US_Yes</th>\n",
              "    </tr>\n",
              "  </thead>\n",
              "  <tbody>\n",
              "    <tr>\n",
              "      <th>Sales</th>\n",
              "      <td>1.000000</td>\n",
              "      <td>0.064079</td>\n",
              "      <td>0.151951</td>\n",
              "      <td>0.269507</td>\n",
              "      <td>0.050471</td>\n",
              "      <td>-0.444951</td>\n",
              "      <td>-0.231815</td>\n",
              "      <td>-0.051955</td>\n",
              "      <td>0.554458</td>\n",
              "      <td>-0.015419</td>\n",
              "      <td>0.177093</td>\n",
              "    </tr>\n",
              "    <tr>\n",
              "      <th>CompPrice</th>\n",
              "      <td>0.064079</td>\n",
              "      <td>1.000000</td>\n",
              "      <td>-0.080653</td>\n",
              "      <td>-0.024199</td>\n",
              "      <td>-0.094707</td>\n",
              "      <td>0.584848</td>\n",
              "      <td>-0.100239</td>\n",
              "      <td>0.025197</td>\n",
              "      <td>0.038549</td>\n",
              "      <td>0.066594</td>\n",
              "      <td>0.016869</td>\n",
              "    </tr>\n",
              "    <tr>\n",
              "      <th>Income</th>\n",
              "      <td>0.151951</td>\n",
              "      <td>-0.080653</td>\n",
              "      <td>1.000000</td>\n",
              "      <td>0.058995</td>\n",
              "      <td>-0.007877</td>\n",
              "      <td>-0.056698</td>\n",
              "      <td>-0.004670</td>\n",
              "      <td>-0.056855</td>\n",
              "      <td>-0.053465</td>\n",
              "      <td>0.037967</td>\n",
              "      <td>0.089601</td>\n",
              "    </tr>\n",
              "    <tr>\n",
              "      <th>Advertising</th>\n",
              "      <td>0.269507</td>\n",
              "      <td>-0.024199</td>\n",
              "      <td>0.058995</td>\n",
              "      <td>1.000000</td>\n",
              "      <td>0.265652</td>\n",
              "      <td>0.044537</td>\n",
              "      <td>-0.004557</td>\n",
              "      <td>-0.033594</td>\n",
              "      <td>0.056552</td>\n",
              "      <td>0.042035</td>\n",
              "      <td>0.684460</td>\n",
              "    </tr>\n",
              "    <tr>\n",
              "      <th>Population</th>\n",
              "      <td>0.050471</td>\n",
              "      <td>-0.094707</td>\n",
              "      <td>-0.007877</td>\n",
              "      <td>0.265652</td>\n",
              "      <td>1.000000</td>\n",
              "      <td>-0.012144</td>\n",
              "      <td>-0.042663</td>\n",
              "      <td>-0.106378</td>\n",
              "      <td>-0.020614</td>\n",
              "      <td>-0.052025</td>\n",
              "      <td>0.060564</td>\n",
              "    </tr>\n",
              "    <tr>\n",
              "      <th>Price</th>\n",
              "      <td>-0.444951</td>\n",
              "      <td>0.584848</td>\n",
              "      <td>-0.056698</td>\n",
              "      <td>0.044537</td>\n",
              "      <td>-0.012144</td>\n",
              "      <td>1.000000</td>\n",
              "      <td>-0.102177</td>\n",
              "      <td>0.011747</td>\n",
              "      <td>0.050924</td>\n",
              "      <td>0.047016</td>\n",
              "      <td>0.057861</td>\n",
              "    </tr>\n",
              "    <tr>\n",
              "      <th>Age</th>\n",
              "      <td>-0.231815</td>\n",
              "      <td>-0.100239</td>\n",
              "      <td>-0.004670</td>\n",
              "      <td>-0.004557</td>\n",
              "      <td>-0.042663</td>\n",
              "      <td>-0.102177</td>\n",
              "      <td>1.000000</td>\n",
              "      <td>0.006488</td>\n",
              "      <td>0.014149</td>\n",
              "      <td>0.028479</td>\n",
              "      <td>0.008652</td>\n",
              "    </tr>\n",
              "    <tr>\n",
              "      <th>Education</th>\n",
              "      <td>-0.051955</td>\n",
              "      <td>0.025197</td>\n",
              "      <td>-0.056855</td>\n",
              "      <td>-0.033594</td>\n",
              "      <td>-0.106378</td>\n",
              "      <td>0.011747</td>\n",
              "      <td>0.006488</td>\n",
              "      <td>1.000000</td>\n",
              "      <td>-0.025723</td>\n",
              "      <td>-0.033094</td>\n",
              "      <td>-0.078250</td>\n",
              "    </tr>\n",
              "    <tr>\n",
              "      <th>ShelveLoc_new</th>\n",
              "      <td>0.554458</td>\n",
              "      <td>0.038549</td>\n",
              "      <td>-0.053465</td>\n",
              "      <td>0.056552</td>\n",
              "      <td>-0.020614</td>\n",
              "      <td>0.050924</td>\n",
              "      <td>0.014149</td>\n",
              "      <td>-0.025723</td>\n",
              "      <td>1.000000</td>\n",
              "      <td>-0.075404</td>\n",
              "      <td>0.047378</td>\n",
              "    </tr>\n",
              "    <tr>\n",
              "      <th>Urban_Yes</th>\n",
              "      <td>-0.015419</td>\n",
              "      <td>0.066594</td>\n",
              "      <td>0.037967</td>\n",
              "      <td>0.042035</td>\n",
              "      <td>-0.052025</td>\n",
              "      <td>0.047016</td>\n",
              "      <td>0.028479</td>\n",
              "      <td>-0.033094</td>\n",
              "      <td>-0.075404</td>\n",
              "      <td>1.000000</td>\n",
              "      <td>0.047085</td>\n",
              "    </tr>\n",
              "    <tr>\n",
              "      <th>US_Yes</th>\n",
              "      <td>0.177093</td>\n",
              "      <td>0.016869</td>\n",
              "      <td>0.089601</td>\n",
              "      <td>0.684460</td>\n",
              "      <td>0.060564</td>\n",
              "      <td>0.057861</td>\n",
              "      <td>0.008652</td>\n",
              "      <td>-0.078250</td>\n",
              "      <td>0.047378</td>\n",
              "      <td>0.047085</td>\n",
              "      <td>1.000000</td>\n",
              "    </tr>\n",
              "  </tbody>\n",
              "</table>\n",
              "</div>"
            ],
            "text/plain": [
              "                  Sales  CompPrice  ...  Urban_Yes    US_Yes\n",
              "Sales          1.000000   0.064079  ...  -0.015419  0.177093\n",
              "CompPrice      0.064079   1.000000  ...   0.066594  0.016869\n",
              "Income         0.151951  -0.080653  ...   0.037967  0.089601\n",
              "Advertising    0.269507  -0.024199  ...   0.042035  0.684460\n",
              "Population     0.050471  -0.094707  ...  -0.052025  0.060564\n",
              "Price         -0.444951   0.584848  ...   0.047016  0.057861\n",
              "Age           -0.231815  -0.100239  ...   0.028479  0.008652\n",
              "Education     -0.051955   0.025197  ...  -0.033094 -0.078250\n",
              "ShelveLoc_new  0.554458   0.038549  ...  -0.075404  0.047378\n",
              "Urban_Yes     -0.015419   0.066594  ...   1.000000  0.047085\n",
              "US_Yes         0.177093   0.016869  ...   0.047085  1.000000\n",
              "\n",
              "[11 rows x 11 columns]"
            ]
          },
          "metadata": {
            "tags": []
          },
          "execution_count": 44
        }
      ]
    },
    {
      "cell_type": "code",
      "metadata": {
        "colab": {
          "base_uri": "https://localhost:8080/"
        },
        "id": "luKgbL1htgtK",
        "outputId": "7fd87315-c85b-49cf-9e05-0001fbce1cf3"
      },
      "source": [
        "df.dtypes"
      ],
      "execution_count": 45,
      "outputs": [
        {
          "output_type": "execute_result",
          "data": {
            "text/plain": [
              "Sales            float64\n",
              "CompPrice          int64\n",
              "Income             int64\n",
              "Advertising        int64\n",
              "Population         int64\n",
              "Price              int64\n",
              "Age                int64\n",
              "Education          int64\n",
              "ShelveLoc_new      int64\n",
              "Urban_Yes          uint8\n",
              "US_Yes             uint8\n",
              "dtype: object"
            ]
          },
          "metadata": {
            "tags": []
          },
          "execution_count": 45
        }
      ]
    },
    {
      "cell_type": "code",
      "metadata": {
        "id": "7x-LRehJtn0N"
      },
      "source": [
        "# spplit x and y\r\n",
        "x= df.iloc[:,1:].values\r\n",
        "y= df.iloc[:,0].values"
      ],
      "execution_count": 46,
      "outputs": []
    },
    {
      "cell_type": "code",
      "metadata": {
        "colab": {
          "base_uri": "https://localhost:8080/"
        },
        "id": "v4SM3fHYuAQZ",
        "outputId": "8a03b404-6f40-41e0-bbeb-de1517dee759"
      },
      "source": [
        "x.shape, y.shape"
      ],
      "execution_count": 47,
      "outputs": [
        {
          "output_type": "execute_result",
          "data": {
            "text/plain": [
              "((400, 10), (400,))"
            ]
          },
          "metadata": {
            "tags": []
          },
          "execution_count": 47
        }
      ]
    },
    {
      "cell_type": "code",
      "metadata": {
        "id": "dXxdXFNiuCHM"
      },
      "source": [
        "y = y.reshape(-1,1)"
      ],
      "execution_count": 48,
      "outputs": []
    },
    {
      "cell_type": "code",
      "metadata": {
        "id": "7wVqb2b2uLFo"
      },
      "source": [
        "# splitting into train and test\r\n",
        "from sklearn.model_selection import train_test_split\r\n",
        "x_train,x_test,y_train,y_test = train_test_split(x,y,test_size = 0.2,random_state = 0)"
      ],
      "execution_count": 49,
      "outputs": []
    },
    {
      "cell_type": "code",
      "metadata": {
        "id": "XVn5ncKku2hN"
      },
      "source": [
        "from sklearn.linear_model import LinearRegression\r\n",
        "model = LinearRegression()"
      ],
      "execution_count": 50,
      "outputs": []
    },
    {
      "cell_type": "code",
      "metadata": {
        "colab": {
          "base_uri": "https://localhost:8080/"
        },
        "id": "CBaJS-G0vi4v",
        "outputId": "09c31f62-5912-45cb-8776-72cca5b41f79"
      },
      "source": [
        "# fitting the training data\r\n",
        "model.fit(x_train,y_train)"
      ],
      "execution_count": 52,
      "outputs": [
        {
          "output_type": "execute_result",
          "data": {
            "text/plain": [
              "LinearRegression(copy_X=True, fit_intercept=True, n_jobs=None, normalize=False)"
            ]
          },
          "metadata": {
            "tags": []
          },
          "execution_count": 52
        }
      ]
    },
    {
      "cell_type": "code",
      "metadata": {
        "id": "SE5L-8eCvmpo"
      },
      "source": [
        "# predictions\r\n",
        "y_pred = model.predict(x_test)"
      ],
      "execution_count": 53,
      "outputs": []
    },
    {
      "cell_type": "code",
      "metadata": {
        "colab": {
          "base_uri": "https://localhost:8080/"
        },
        "id": "ZIRC_qkNv08K",
        "outputId": "b9329b3e-c5ac-4005-a485-9e89e055e7ba"
      },
      "source": [
        "# checking the r2score\r\n",
        "from sklearn.metrics import r2_score\r\n",
        "r2_score(y_test,y_pred)"
      ],
      "execution_count": 54,
      "outputs": [
        {
          "output_type": "execute_result",
          "data": {
            "text/plain": [
              "0.8001916791084241"
            ]
          },
          "metadata": {
            "tags": []
          },
          "execution_count": 54
        }
      ]
    },
    {
      "cell_type": "code",
      "metadata": {
        "id": "XP1DWTDOv4w0"
      },
      "source": [
        ""
      ],
      "execution_count": null,
      "outputs": []
    }
  ]
}