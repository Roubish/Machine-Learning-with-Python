{
  "nbformat": 4,
  "nbformat_minor": 0,
  "metadata": {
    "colab": {
      "name": "KNNRegressor",
      "provenance": []
    },
    "kernelspec": {
      "name": "python3",
      "display_name": "Python 3"
    }
  },
  "cells": [
    {
      "cell_type": "code",
      "metadata": {
        "id": "JphA7aqEoUxl"
      },
      "source": [
        "import pandas as pd\r\n",
        "import numpy as np\r\n",
        "import matplotlib.pyplot as plt"
      ],
      "execution_count": 2,
      "outputs": []
    },
    {
      "cell_type": "code",
      "metadata": {
        "id": "4gnURaalpi_d"
      },
      "source": [
        "df = pd.read_csv('Slump.csv',sep='\\t')"
      ],
      "execution_count": 5,
      "outputs": []
    },
    {
      "cell_type": "code",
      "metadata": {
        "colab": {
          "base_uri": "https://localhost:8080/",
          "height": 259
        },
        "id": "PC3CSJWXf2mH",
        "outputId": "63f8928d-d9e8-4816-d9e7-daead86d473f"
      },
      "source": [
        "df.head()"
      ],
      "execution_count": 6,
      "outputs": [
        {
          "output_type": "execute_result",
          "data": {
            "text/html": [
              "<div>\n",
              "<style scoped>\n",
              "    .dataframe tbody tr th:only-of-type {\n",
              "        vertical-align: middle;\n",
              "    }\n",
              "\n",
              "    .dataframe tbody tr th {\n",
              "        vertical-align: top;\n",
              "    }\n",
              "\n",
              "    .dataframe thead th {\n",
              "        text-align: right;\n",
              "    }\n",
              "</style>\n",
              "<table border=\"1\" class=\"dataframe\">\n",
              "  <thead>\n",
              "    <tr style=\"text-align: right;\">\n",
              "      <th></th>\n",
              "      <th>Cement</th>\n",
              "      <th>Slag</th>\n",
              "      <th>Fly ash</th>\n",
              "      <th>Water</th>\n",
              "      <th>SP</th>\n",
              "      <th>Coarse Aggr.</th>\n",
              "      <th>Fine Aggr.</th>\n",
              "      <th>SLUMP(cm)</th>\n",
              "      <th>FLOW(cm)</th>\n",
              "      <th>Compressive Strength (28-day)(Mpa)</th>\n",
              "    </tr>\n",
              "  </thead>\n",
              "  <tbody>\n",
              "    <tr>\n",
              "      <th>0</th>\n",
              "      <td>273.0</td>\n",
              "      <td>82.0</td>\n",
              "      <td>105.0</td>\n",
              "      <td>210.0</td>\n",
              "      <td>9.0</td>\n",
              "      <td>904.0</td>\n",
              "      <td>680.0</td>\n",
              "      <td>23.0</td>\n",
              "      <td>62.0</td>\n",
              "      <td>34.99</td>\n",
              "    </tr>\n",
              "    <tr>\n",
              "      <th>1</th>\n",
              "      <td>163.0</td>\n",
              "      <td>149.0</td>\n",
              "      <td>191.0</td>\n",
              "      <td>180.0</td>\n",
              "      <td>12.0</td>\n",
              "      <td>843.0</td>\n",
              "      <td>746.0</td>\n",
              "      <td>0.0</td>\n",
              "      <td>20.0</td>\n",
              "      <td>41.14</td>\n",
              "    </tr>\n",
              "    <tr>\n",
              "      <th>2</th>\n",
              "      <td>162.0</td>\n",
              "      <td>148.0</td>\n",
              "      <td>191.0</td>\n",
              "      <td>179.0</td>\n",
              "      <td>16.0</td>\n",
              "      <td>840.0</td>\n",
              "      <td>743.0</td>\n",
              "      <td>1.0</td>\n",
              "      <td>20.0</td>\n",
              "      <td>41.81</td>\n",
              "    </tr>\n",
              "    <tr>\n",
              "      <th>3</th>\n",
              "      <td>162.0</td>\n",
              "      <td>148.0</td>\n",
              "      <td>190.0</td>\n",
              "      <td>179.0</td>\n",
              "      <td>19.0</td>\n",
              "      <td>838.0</td>\n",
              "      <td>741.0</td>\n",
              "      <td>3.0</td>\n",
              "      <td>21.5</td>\n",
              "      <td>42.08</td>\n",
              "    </tr>\n",
              "    <tr>\n",
              "      <th>4</th>\n",
              "      <td>154.0</td>\n",
              "      <td>112.0</td>\n",
              "      <td>144.0</td>\n",
              "      <td>220.0</td>\n",
              "      <td>10.0</td>\n",
              "      <td>923.0</td>\n",
              "      <td>658.0</td>\n",
              "      <td>20.0</td>\n",
              "      <td>64.0</td>\n",
              "      <td>26.82</td>\n",
              "    </tr>\n",
              "  </tbody>\n",
              "</table>\n",
              "</div>"
            ],
            "text/plain": [
              "   Cement   Slag  ...  FLOW(cm)  Compressive Strength (28-day)(Mpa)\n",
              "0   273.0   82.0  ...      62.0                               34.99\n",
              "1   163.0  149.0  ...      20.0                               41.14\n",
              "2   162.0  148.0  ...      20.0                               41.81\n",
              "3   162.0  148.0  ...      21.5                               42.08\n",
              "4   154.0  112.0  ...      64.0                               26.82\n",
              "\n",
              "[5 rows x 10 columns]"
            ]
          },
          "metadata": {
            "tags": []
          },
          "execution_count": 6
        }
      ]
    },
    {
      "cell_type": "code",
      "metadata": {
        "colab": {
          "base_uri": "https://localhost:8080/"
        },
        "id": "XCNn5X_Xf40z",
        "outputId": "9681afab-fc99-4b8f-bda5-504edee8d47f"
      },
      "source": [
        "df.isnull().sum()"
      ],
      "execution_count": 7,
      "outputs": [
        {
          "output_type": "execute_result",
          "data": {
            "text/plain": [
              "Cement                                0\n",
              "Slag                                  0\n",
              "Fly ash                               0\n",
              "Water                                 0\n",
              "SP                                    0\n",
              "Coarse Aggr.                          0\n",
              "Fine Aggr.                            0\n",
              "SLUMP(cm)                             0\n",
              "FLOW(cm)                              0\n",
              "Compressive Strength (28-day)(Mpa)    0\n",
              "dtype: int64"
            ]
          },
          "metadata": {
            "tags": []
          },
          "execution_count": 7
        }
      ]
    },
    {
      "cell_type": "code",
      "metadata": {
        "colab": {
          "base_uri": "https://localhost:8080/"
        },
        "id": "w2fxxdRygOF4",
        "outputId": "7c49e1f8-a23c-4d88-c0ff-3cec22a422c3"
      },
      "source": [
        "df.dtypes"
      ],
      "execution_count": 8,
      "outputs": [
        {
          "output_type": "execute_result",
          "data": {
            "text/plain": [
              "Cement                                float64\n",
              "Slag                                  float64\n",
              "Fly ash                               float64\n",
              "Water                                 float64\n",
              "SP                                    float64\n",
              "Coarse Aggr.                          float64\n",
              "Fine Aggr.                            float64\n",
              "SLUMP(cm)                             float64\n",
              "FLOW(cm)                              float64\n",
              "Compressive Strength (28-day)(Mpa)    float64\n",
              "dtype: object"
            ]
          },
          "metadata": {
            "tags": []
          },
          "execution_count": 8
        }
      ]
    },
    {
      "cell_type": "code",
      "metadata": {
        "colab": {
          "base_uri": "https://localhost:8080/",
          "height": 1000
        },
        "id": "sCUeQMiIgRZX",
        "outputId": "1598024e-10fe-41a0-d4ad-afa90c357c8a"
      },
      "source": [
        "plt.figure(figsize=(15,25))\r\n",
        "count = 1\r\n",
        "for col in df:\r\n",
        "  plt.subplot(5,2,count)\r\n",
        "  plt.boxplot(df[col])\r\n",
        "  plt.title(col)\r\n",
        "  count += 1\r\n",
        "\r\n",
        "plt.show()"
      ],
      "execution_count": 12,
      "outputs": [
        {
          "output_type": "display_data",
          "data": {
            "image/png": "[encoded data removed]",
            "text/plain": [
              "<Figure size 1080x1800 with 10 Axes>"
            ]
          },
          "metadata": {
            "tags": [],
            "needs_background": "light"
          }
        }
      ]
    },
    {
      "cell_type": "code",
      "metadata": {
        "colab": {
          "base_uri": "https://localhost:8080/",
          "height": 470
        },
        "id": "PEOM9FvYgXsM",
        "outputId": "b55c2b53-e44e-484d-c612-29c7cbe5305a"
      },
      "source": [
        "# Checking the correlation\r\n",
        "df.corr()"
      ],
      "execution_count": 14,
      "outputs": [
        {
          "output_type": "execute_result",
          "data": {
            "text/html": [
              "<div>\n",
              "<style scoped>\n",
              "    .dataframe tbody tr th:only-of-type {\n",
              "        vertical-align: middle;\n",
              "    }\n",
              "\n",
              "    .dataframe tbody tr th {\n",
              "        vertical-align: top;\n",
              "    }\n",
              "\n",
              "    .dataframe thead th {\n",
              "        text-align: right;\n",
              "    }\n",
              "</style>\n",
              "<table border=\"1\" class=\"dataframe\">\n",
              "  <thead>\n",
              "    <tr style=\"text-align: right;\">\n",
              "      <th></th>\n",
              "      <th>Cement</th>\n",
              "      <th>Slag</th>\n",
              "      <th>Fly ash</th>\n",
              "      <th>Water</th>\n",
              "      <th>SP</th>\n",
              "      <th>Coarse Aggr.</th>\n",
              "      <th>Fine Aggr.</th>\n",
              "      <th>SLUMP(cm)</th>\n",
              "      <th>FLOW(cm)</th>\n",
              "      <th>Compressive Strength (28-day)(Mpa)</th>\n",
              "    </tr>\n",
              "  </thead>\n",
              "  <tbody>\n",
              "    <tr>\n",
              "      <th>Cement</th>\n",
              "      <td>1.000000</td>\n",
              "      <td>-0.243553</td>\n",
              "      <td>-0.486535</td>\n",
              "      <td>0.221091</td>\n",
              "      <td>-0.106387</td>\n",
              "      <td>-0.309857</td>\n",
              "      <td>0.056959</td>\n",
              "      <td>0.145913</td>\n",
              "      <td>0.186461</td>\n",
              "      <td>0.445656</td>\n",
              "    </tr>\n",
              "    <tr>\n",
              "      <th>Slag</th>\n",
              "      <td>-0.243553</td>\n",
              "      <td>1.000000</td>\n",
              "      <td>-0.322619</td>\n",
              "      <td>-0.026775</td>\n",
              "      <td>0.306504</td>\n",
              "      <td>-0.223792</td>\n",
              "      <td>-0.183522</td>\n",
              "      <td>-0.284037</td>\n",
              "      <td>-0.327231</td>\n",
              "      <td>-0.331522</td>\n",
              "    </tr>\n",
              "    <tr>\n",
              "      <th>Fly ash</th>\n",
              "      <td>-0.486535</td>\n",
              "      <td>-0.322619</td>\n",
              "      <td>1.000000</td>\n",
              "      <td>-0.241321</td>\n",
              "      <td>-0.143508</td>\n",
              "      <td>0.172620</td>\n",
              "      <td>-0.282854</td>\n",
              "      <td>-0.118621</td>\n",
              "      <td>-0.055423</td>\n",
              "      <td>0.444380</td>\n",
              "    </tr>\n",
              "    <tr>\n",
              "      <th>Water</th>\n",
              "      <td>0.221091</td>\n",
              "      <td>-0.026775</td>\n",
              "      <td>-0.241321</td>\n",
              "      <td>1.000000</td>\n",
              "      <td>-0.155456</td>\n",
              "      <td>-0.602201</td>\n",
              "      <td>0.114591</td>\n",
              "      <td>0.466568</td>\n",
              "      <td>0.632026</td>\n",
              "      <td>-0.254320</td>\n",
              "    </tr>\n",
              "    <tr>\n",
              "      <th>SP</th>\n",
              "      <td>-0.106387</td>\n",
              "      <td>0.306504</td>\n",
              "      <td>-0.143508</td>\n",
              "      <td>-0.155456</td>\n",
              "      <td>1.000000</td>\n",
              "      <td>-0.104159</td>\n",
              "      <td>0.058290</td>\n",
              "      <td>-0.212902</td>\n",
              "      <td>-0.176314</td>\n",
              "      <td>-0.037909</td>\n",
              "    </tr>\n",
              "    <tr>\n",
              "      <th>Coarse Aggr.</th>\n",
              "      <td>-0.309857</td>\n",
              "      <td>-0.223792</td>\n",
              "      <td>0.172620</td>\n",
              "      <td>-0.602201</td>\n",
              "      <td>-0.104159</td>\n",
              "      <td>1.000000</td>\n",
              "      <td>-0.488537</td>\n",
              "      <td>-0.188157</td>\n",
              "      <td>-0.325787</td>\n",
              "      <td>-0.160610</td>\n",
              "    </tr>\n",
              "    <tr>\n",
              "      <th>Fine Aggr.</th>\n",
              "      <td>0.056959</td>\n",
              "      <td>-0.183522</td>\n",
              "      <td>-0.282854</td>\n",
              "      <td>0.114591</td>\n",
              "      <td>0.058290</td>\n",
              "      <td>-0.488537</td>\n",
              "      <td>1.000000</td>\n",
              "      <td>0.202272</td>\n",
              "      <td>0.190370</td>\n",
              "      <td>-0.154532</td>\n",
              "    </tr>\n",
              "    <tr>\n",
              "      <th>SLUMP(cm)</th>\n",
              "      <td>0.145913</td>\n",
              "      <td>-0.284037</td>\n",
              "      <td>-0.118621</td>\n",
              "      <td>0.466568</td>\n",
              "      <td>-0.212902</td>\n",
              "      <td>-0.188157</td>\n",
              "      <td>0.202272</td>\n",
              "      <td>1.000000</td>\n",
              "      <td>0.906135</td>\n",
              "      <td>-0.223499</td>\n",
              "    </tr>\n",
              "    <tr>\n",
              "      <th>FLOW(cm)</th>\n",
              "      <td>0.186461</td>\n",
              "      <td>-0.327231</td>\n",
              "      <td>-0.055423</td>\n",
              "      <td>0.632026</td>\n",
              "      <td>-0.176314</td>\n",
              "      <td>-0.325787</td>\n",
              "      <td>0.190370</td>\n",
              "      <td>0.906135</td>\n",
              "      <td>1.000000</td>\n",
              "      <td>-0.124189</td>\n",
              "    </tr>\n",
              "    <tr>\n",
              "      <th>Compressive Strength (28-day)(Mpa)</th>\n",
              "      <td>0.445656</td>\n",
              "      <td>-0.331522</td>\n",
              "      <td>0.444380</td>\n",
              "      <td>-0.254320</td>\n",
              "      <td>-0.037909</td>\n",
              "      <td>-0.160610</td>\n",
              "      <td>-0.154532</td>\n",
              "      <td>-0.223499</td>\n",
              "      <td>-0.124189</td>\n",
              "      <td>1.000000</td>\n",
              "    </tr>\n",
              "  </tbody>\n",
              "</table>\n",
              "</div>"
            ],
            "text/plain": [
              "                                      Cement  ...  Compressive Strength (28-day)(Mpa)\n",
              "Cement                              1.000000  ...                            0.445656\n",
              "Slag                               -0.243553  ...                           -0.331522\n",
              "Fly ash                            -0.486535  ...                            0.444380\n",
              "Water                               0.221091  ...                           -0.254320\n",
              "SP                                 -0.106387  ...                           -0.037909\n",
              "Coarse Aggr.                       -0.309857  ...                           -0.160610\n",
              "Fine Aggr.                          0.056959  ...                           -0.154532\n",
              "SLUMP(cm)                           0.145913  ...                           -0.223499\n",
              "FLOW(cm)                            0.186461  ...                           -0.124189\n",
              "Compressive Strength (28-day)(Mpa)  0.445656  ...                            1.000000\n",
              "\n",
              "[10 rows x 10 columns]"
            ]
          },
          "metadata": {
            "tags": []
          },
          "execution_count": 14
        }
      ]
    },
    {
      "cell_type": "code",
      "metadata": {
        "id": "1FeDTi8fg_4g"
      },
      "source": [
        "# split X and y\r\n",
        "X = df.iloc[:,:-1].values\r\n",
        "y = df.iloc[:,-1].values"
      ],
      "execution_count": 15,
      "outputs": []
    },
    {
      "cell_type": "code",
      "metadata": {
        "colab": {
          "base_uri": "https://localhost:8080/"
        },
        "id": "wHXrAweDhc07",
        "outputId": "09ca13d8-e6fd-4346-fb6f-d9d026cc1e7e"
      },
      "source": [
        "X.shape , y.shape"
      ],
      "execution_count": 17,
      "outputs": [
        {
          "output_type": "execute_result",
          "data": {
            "text/plain": [
              "((103, 9), (103,))"
            ]
          },
          "metadata": {
            "tags": []
          },
          "execution_count": 17
        }
      ]
    },
    {
      "cell_type": "code",
      "metadata": {
        "id": "XDbZklD0hgWR"
      },
      "source": [
        "y = y.reshape(-1,1)"
      ],
      "execution_count": 18,
      "outputs": []
    },
    {
      "cell_type": "markdown",
      "metadata": {
        "id": "hTQ7yxaIhyNk"
      },
      "source": [
        "### Feature Scaling\r\n",
        "Whenever we are dealing with KNN algorithm, we should do the feature scaling"
      ]
    },
    {
      "cell_type": "code",
      "metadata": {
        "id": "12yNaENYhq6a"
      },
      "source": [
        "from sklearn.preprocessing import StandardScaler\r\n",
        "sc = StandardScaler()\r\n",
        "X = sc.fit_transform(X)"
      ],
      "execution_count": 21,
      "outputs": []
    },
    {
      "cell_type": "code",
      "metadata": {
        "id": "dhpMOZ6LiL86"
      },
      "source": [
        "#splitting into train and test\r\n",
        "from sklearn.model_selection import train_test_split\r\n",
        "X_train,X_test,y_train,y_test = train_test_split(X,y,test_size = 0.2,random_state = 0)"
      ],
      "execution_count": 22,
      "outputs": []
    },
    {
      "cell_type": "code",
      "metadata": {
        "id": "iavd44jrikGB"
      },
      "source": [
        "#importing the model and metrics\r\n",
        "from sklearn.neighbors import KNeighborsRegressor\r\n",
        "from sklearn.metrics import mean_squared_error,r2_score"
      ],
      "execution_count": 23,
      "outputs": []
    },
    {
      "cell_type": "code",
      "metadata": {
        "id": "jO2yHgf3ioAd"
      },
      "source": [
        "mse = []\r\n",
        "r2 = []\r\n",
        "for i in range(1,10):\r\n",
        "    model = KNeighborsRegressor(n_neighbors=i)\r\n",
        "    model.fit(X_train,y_train)\r\n",
        "    y_pred = model.predict(X_test)\r\n",
        "    mse_i = mean_squared_error(y_test,y_pred)\r\n",
        "    mse.append(mse_i)\r\n",
        "    r2_i = r2_score(y_test,y_pred)\r\n",
        "    r2.append(r2_i)"
      ],
      "execution_count": 27,
      "outputs": []
    },
    {
      "cell_type": "markdown",
      "metadata": {
        "id": "jTbIrMXFi_gp"
      },
      "source": [
        "### MSE v/s K-value\r\n"
      ]
    },
    {
      "cell_type": "code",
      "metadata": {
        "colab": {
          "base_uri": "https://localhost:8080/",
          "height": 513
        },
        "id": "yBzP6dzdivSf",
        "outputId": "088587fb-7326-4be1-a7c3-39bc34a9eaf4"
      },
      "source": [
        "plt.figure(figsize=(8,8))\r\n",
        "plt.plot(np.arange(1,10),mse,'r')\r\n",
        "plt.xlabel('k-value')\r\n",
        "plt.ylabel('mean-squared-error')\r\n",
        "plt.title(\"Selecting k-value\")\r\n",
        "plt.show()"
      ],
      "execution_count": 28,
      "outputs": [
        {
          "output_type": "display_data",
          "data": {
            "image/png": "[encoded data removed]",
            "text/plain": [
              "<Figure size 576x576 with 1 Axes>"
            ]
          },
          "metadata": {
            "tags": [],
            "needs_background": "light"
          }
        }
      ]
    },
    {
      "cell_type": "code",
      "metadata": {
        "id": "owkj21YGj-bQ"
      },
      "source": [
        "# Model Building\r\n",
        "model = KNeighborsRegressor(n_neighbors=2)\r\n",
        "model.fit(X_train,y_train)\r\n",
        "y_pred = model.predict(X_test)"
      ],
      "execution_count": 29,
      "outputs": []
    },
    {
      "cell_type": "markdown",
      "metadata": {
        "id": "cbmBqVWjkJfb"
      },
      "source": [
        "### Model Building"
      ]
    },
    {
      "cell_type": "code",
      "metadata": {
        "colab": {
          "base_uri": "https://localhost:8080/"
        },
        "id": "N4PTWbt8kHhF",
        "outputId": "c7ad6f2a-57af-4372-8578-6e31dcb2a4bb"
      },
      "source": [
        "r2_score(y_test,y_pred)"
      ],
      "execution_count": 31,
      "outputs": [
        {
          "output_type": "execute_result",
          "data": {
            "text/plain": [
              "0.8028411170170824"
            ]
          },
          "metadata": {
            "tags": []
          },
          "execution_count": 31
        }
      ]
    },
    {
      "cell_type": "code",
      "metadata": {
        "id": "U2mv6I6UkYLz"
      },
      "source": [
        ""
      ],
      "execution_count": null,
      "outputs": []
    }
  ]
}